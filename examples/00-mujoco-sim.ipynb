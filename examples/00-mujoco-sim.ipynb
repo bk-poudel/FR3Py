{
 "cells": [
  {
   "cell_type": "code",
   "execution_count": 23,
   "metadata": {},
   "outputs": [],
   "source": [
    "from FR3Py.sim.mujoco import FR3Sim"
   ]
  },
  {
   "cell_type": "code",
   "execution_count": 24,
   "metadata": {},
   "outputs": [],
   "source": [
    "robot = FR3Sim(interface_type='torque')"
   ]
  },
  {
   "cell_type": "code",
   "execution_count": 10,
   "metadata": {},
   "outputs": [
    {
     "ename": "KeyboardInterrupt",
     "evalue": "",
     "output_type": "error",
     "traceback": [
      "\u001b[0;31m---------------------------------------------------------------------------\u001b[0m",
      "\u001b[0;31mKeyboardInterrupt\u001b[0m                         Traceback (most recent call last)",
      "Cell \u001b[0;32mIn[10], line 5\u001b[0m\n\u001b[1;32m      3\u001b[0m \u001b[38;5;28;01mfor\u001b[39;00m i \u001b[38;5;129;01min\u001b[39;00m \u001b[38;5;28mrange\u001b[39m(\u001b[38;5;241m100000\u001b[39m):\n\u001b[1;32m      4\u001b[0m     robot\u001b[38;5;241m.\u001b[39mstep()\n\u001b[0;32m----> 5\u001b[0m     \u001b[43mrobot\u001b[49m\u001b[38;5;241;43m.\u001b[39;49m\u001b[43msetCommands\u001b[49m\u001b[43m(\u001b[49m\u001b[43mnp\u001b[49m\u001b[38;5;241;43m.\u001b[39;49m\u001b[43marray\u001b[49m\u001b[43m(\u001b[49m\u001b[43m[\u001b[49m\u001b[38;5;241;43m0.1\u001b[39;49m\u001b[43m,\u001b[49m\u001b[43m \u001b[49m\u001b[38;5;241;43m0\u001b[39;49m\u001b[43m,\u001b[49m\u001b[43m \u001b[49m\u001b[38;5;241;43m0\u001b[39;49m\u001b[43m,\u001b[49m\u001b[43m \u001b[49m\u001b[38;5;241;43m0\u001b[39;49m\u001b[43m,\u001b[49m\u001b[43m \u001b[49m\u001b[38;5;241;43m0\u001b[39;49m\u001b[43m,\u001b[49m\u001b[43m \u001b[49m\u001b[38;5;241;43m0\u001b[39;49m\u001b[43m,\u001b[49m\u001b[43m \u001b[49m\u001b[38;5;241;43m0\u001b[39;49m\u001b[43m]\u001b[49m\u001b[43m)\u001b[49m\u001b[43m)\u001b[49m\n\u001b[1;32m      6\u001b[0m     time\u001b[38;5;241m.\u001b[39msleep(robot\u001b[38;5;241m.\u001b[39mdt)\n",
      "File \u001b[0;32m/usr/local/lib/python3.10/dist-packages/FR3Py/sim/mujoco.py:74\u001b[0m, in \u001b[0;36mFR3Sim.setCommands\u001b[0;34m(self, cmd, finger_pos)\u001b[0m\n\u001b[1;32m     72\u001b[0m \u001b[38;5;28mself\u001b[39m\u001b[38;5;241m.\u001b[39mtau_ff \u001b[38;5;241m=\u001b[39m cmd\n\u001b[1;32m     73\u001b[0m \u001b[38;5;28mself\u001b[39m\u001b[38;5;241m.\u001b[39mlatest_command_stamp \u001b[38;5;241m=\u001b[39m time\u001b[38;5;241m.\u001b[39mtime()\n\u001b[0;32m---> 74\u001b[0m \u001b[38;5;28;43mself\u001b[39;49m\u001b[38;5;241;43m.\u001b[39;49m\u001b[43mstep\u001b[49m\u001b[43m(\u001b[49m\u001b[43mfinger_pos\u001b[49m\u001b[43m)\u001b[49m\n",
      "File \u001b[0;32m/usr/local/lib/python3.10/dist-packages/FR3Py/sim/mujoco.py:97\u001b[0m, in \u001b[0;36mFR3Sim.step\u001b[0;34m(self, finger_pos)\u001b[0m\n\u001b[1;32m     95\u001b[0m \u001b[38;5;66;03m# Render every render_ds_ratio steps (60Hz GUI update)\u001b[39;00m\n\u001b[1;32m     96\u001b[0m \u001b[38;5;28;01mif\u001b[39;00m \u001b[38;5;28mself\u001b[39m\u001b[38;5;241m.\u001b[39mrender \u001b[38;5;129;01mand\u001b[39;00m (\u001b[38;5;28mself\u001b[39m\u001b[38;5;241m.\u001b[39mstep_counter\u001b[38;5;241m%\u001b[39m\u001b[38;5;28mself\u001b[39m\u001b[38;5;241m.\u001b[39mrender_ds_ratio)\u001b[38;5;241m==\u001b[39m\u001b[38;5;241m0\u001b[39m:\n\u001b[0;32m---> 97\u001b[0m     \u001b[38;5;28;43mself\u001b[39;49m\u001b[38;5;241;43m.\u001b[39;49m\u001b[43mviewer\u001b[49m\u001b[38;5;241;43m.\u001b[39;49m\u001b[43msync\u001b[49m\u001b[43m(\u001b[49m\u001b[43m)\u001b[49m\n",
      "File \u001b[0;32m/usr/local/lib/python3.10/dist-packages/mujoco/viewer.py:236\u001b[0m, in \u001b[0;36mHandle.sync\u001b[0;34m(self)\u001b[0m\n\u001b[1;32m    234\u001b[0m sim \u001b[38;5;241m=\u001b[39m \u001b[38;5;28mself\u001b[39m\u001b[38;5;241m.\u001b[39m_get_sim()\n\u001b[1;32m    235\u001b[0m \u001b[38;5;28;01mif\u001b[39;00m sim \u001b[38;5;129;01mis\u001b[39;00m \u001b[38;5;129;01mnot\u001b[39;00m \u001b[38;5;28;01mNone\u001b[39;00m:\n\u001b[0;32m--> 236\u001b[0m   \u001b[43msim\u001b[49m\u001b[38;5;241;43m.\u001b[39;49m\u001b[43msync\u001b[49m\u001b[43m(\u001b[49m\u001b[43m)\u001b[49m\n",
      "\u001b[0;31mKeyboardInterrupt\u001b[0m: "
     ]
    }
   ],
   "source": [
    "import numpy as np\n",
    "import time\n",
    "for i in range(100000):\n",
    "    robot.step()\n",
    "    robot.setCommands(np.array([0.1, 0, 0, 0, 0, 0, 0]))\n",
    "    time.sleep(robot.dt)"
   ]
  },
  {
   "cell_type": "code",
   "execution_count": 21,
   "metadata": {},
   "outputs": [
    {
     "data": {
      "text/plain": [
       "{'q': array([-5.18364912e-06, -7.85505698e-01,  3.49774282e-06, -2.35652277e+00,\n",
       "        -8.37503678e-06,  1.57086361e+00,  7.85395454e-01]),\n",
       " 'dq': array([-0.00172577, -0.03581088,  0.00116629, -0.10935601, -0.00279364,\n",
       "         0.02233195, -0.00090079]),\n",
       " 'tau_est': array([ 8.62351419e-04,  4.00571200e+00,  6.43451587e-01, -2.19662766e+01,\n",
       "        -6.32432804e-01, -2.28925779e+00,  4.51446180e-04])}"
      ]
     },
     "execution_count": 21,
     "metadata": {},
     "output_type": "execute_result"
    }
   ],
   "source": [
    "robot.getJointStates()"
   ]
  },
  {
   "cell_type": "code",
   "execution_count": 33,
   "metadata": {},
   "outputs": [
    {
     "name": "stdout",
     "output_type": "stream",
     "text": [
      "0: universe\n",
      "1: fr3_link0\n",
      "2: fr3_joint1\n",
      "3: fr3_link1\n",
      "4: fr3_joint2\n",
      "5: fr3_link2\n",
      "6: fr3_joint3\n",
      "7: fr3_link3\n",
      "8: fr3_joint4\n",
      "9: fr3_link4\n",
      "10: fr3_joint5\n",
      "11: fr3_link5\n",
      "12: fr3_joint6\n",
      "13: fr3_link6\n",
      "14: fr3_joint7\n",
      "15: fr3_link7\n",
      "16: fr3_joint8\n",
      "17: fr3_link8\n",
      "18: fr3_hand_joint\n",
      "19: fr3_hand\n",
      "20: fr3_finger_joint1\n",
      "21: fr3_leftfinger\n",
      "22: fr3_finger_joint2\n",
      "23: fr3_rightfinger\n",
      "24: fr3_hand_tcp_joint\n",
      "25: fr3_hand_tcp\n",
      "starting the controller\n"
     ]
    },
    {
     "ename": "ValueError",
     "evalue": "The index of the Frame is outside the bounds.",
     "output_type": "error",
     "traceback": [
      "\u001b[0;31m---------------------------------------------------------------------------\u001b[0m",
      "\u001b[0;31mValueError\u001b[0m                                Traceback (most recent call last)",
      "Cell \u001b[0;32mIn[33], line 18\u001b[0m\n\u001b[1;32m     15\u001b[0m q \u001b[38;5;241m=\u001b[39m np\u001b[38;5;241m.\u001b[39mhstack([q, np\u001b[38;5;241m.\u001b[39mzeros(\u001b[38;5;241m2\u001b[39m)])\n\u001b[1;32m     16\u001b[0m dq \u001b[38;5;241m=\u001b[39m np\u001b[38;5;241m.\u001b[39mhstack([dq, np\u001b[38;5;241m.\u001b[39mzeros(\u001b[38;5;241m2\u001b[39m)]\n\u001b[1;32m     17\u001b[0m                )\n\u001b[0;32m---> 18\u001b[0m p0 \u001b[38;5;241m=\u001b[39m \u001b[43mcontroller\u001b[49m\u001b[38;5;241;43m.\u001b[39;49m\u001b[43mrobot\u001b[49m\u001b[38;5;241;43m.\u001b[39;49m\u001b[43mgetInfo\u001b[49m\u001b[43m(\u001b[49m\u001b[43mq\u001b[49m\u001b[43m,\u001b[49m\u001b[43mdq\u001b[49m\u001b[43m)\u001b[49m[\u001b[38;5;124m'\u001b[39m\u001b[38;5;124mP_EE\u001b[39m\u001b[38;5;124m'\u001b[39m]\n\u001b[1;32m     19\u001b[0m R0 \u001b[38;5;241m=\u001b[39m controller\u001b[38;5;241m.\u001b[39mrobot\u001b[38;5;241m.\u001b[39mgetInfo(q,dq)[\u001b[38;5;124m'\u001b[39m\u001b[38;5;124mR_EE\u001b[39m\u001b[38;5;124m'\u001b[39m]\n\u001b[1;32m     20\u001b[0m T0 \u001b[38;5;241m=\u001b[39m np\u001b[38;5;241m.\u001b[39mvstack([np\u001b[38;5;241m.\u001b[39mhstack([R0, p0\u001b[38;5;241m.\u001b[39mreshape(\u001b[38;5;241m3\u001b[39m,\u001b[38;5;241m1\u001b[39m)]), np\u001b[38;5;241m.\u001b[39marray([\u001b[38;5;241m0\u001b[39m,\u001b[38;5;241m0\u001b[39m,\u001b[38;5;241m0\u001b[39m,\u001b[38;5;241m1\u001b[39m])])\n",
      "File \u001b[0;32m/usr/local/lib/python3.10/dist-packages/FR3Py/robot/model.py:101\u001b[0m, in \u001b[0;36mPinocchioModel.getInfo\u001b[0;34m(self, q, dq)\u001b[0m\n\u001b[1;32m     98\u001b[0m \u001b[38;5;28mself\u001b[39m\u001b[38;5;241m.\u001b[39mrobot\u001b[38;5;241m.\u001b[39mcentroidalMomentum(_q, _dq)\n\u001b[1;32m     99\u001b[0m \u001b[38;5;66;03m# Get Jacobian from grasp target frame\u001b[39;00m\n\u001b[1;32m    100\u001b[0m \u001b[38;5;66;03m# preprocessing is done in get_state_update_pinocchio()\u001b[39;00m\n\u001b[0;32m--> 101\u001b[0m jacobian \u001b[38;5;241m=\u001b[39m \u001b[38;5;28;43mself\u001b[39;49m\u001b[38;5;241;43m.\u001b[39;49m\u001b[43mrobot\u001b[49m\u001b[38;5;241;43m.\u001b[39;49m\u001b[43mgetFrameJacobian\u001b[49m\u001b[43m(\u001b[49m\u001b[38;5;28;43mself\u001b[39;49m\u001b[38;5;241;43m.\u001b[39;49m\u001b[43mEE_FRAME_ID\u001b[49m\u001b[43m,\u001b[49m\u001b[43m \u001b[49m\u001b[38;5;28;43mself\u001b[39;49m\u001b[38;5;241;43m.\u001b[39;49m\u001b[43mjacobian_frame\u001b[49m\u001b[43m)\u001b[49m\n\u001b[1;32m    103\u001b[0m \u001b[38;5;66;03m# Get pseudo-inverse of frame Jacobian\u001b[39;00m\n\u001b[1;32m    104\u001b[0m pinv_jac \u001b[38;5;241m=\u001b[39m np\u001b[38;5;241m.\u001b[39mlinalg\u001b[38;5;241m.\u001b[39mpinv(jacobian)\n",
      "File \u001b[0;32m/usr/local/lib/python3.10/dist-packages/cmeel.prefix/lib/python3.10/site-packages/pinocchio/robot_wrapper.py:319\u001b[0m, in \u001b[0;36mRobotWrapper.getFrameJacobian\u001b[0;34m(self, frame_id, rf_frame)\u001b[0m\n\u001b[1;32m    314\u001b[0m \u001b[38;5;28;01mdef\u001b[39;00m \u001b[38;5;21mgetFrameJacobian\u001b[39m(\u001b[38;5;28mself\u001b[39m, frame_id, rf_frame\u001b[38;5;241m=\u001b[39mpin\u001b[38;5;241m.\u001b[39mReferenceFrame\u001b[38;5;241m.\u001b[39mLOCAL):\n\u001b[1;32m    315\u001b[0m     \u001b[38;5;124;03m\"\"\"\u001b[39;00m\n\u001b[1;32m    316\u001b[0m \u001b[38;5;124;03m    It computes the Jacobian of frame given by its id (frame_id) either expressed in\u001b[39;00m\n\u001b[1;32m    317\u001b[0m \u001b[38;5;124;03m    the local coordinate frame or in the world coordinate frame.\u001b[39;00m\n\u001b[1;32m    318\u001b[0m \u001b[38;5;124;03m    \"\"\"\u001b[39;00m\n\u001b[0;32m--> 319\u001b[0m     \u001b[38;5;28;01mreturn\u001b[39;00m \u001b[43mpin\u001b[49m\u001b[38;5;241;43m.\u001b[39;49m\u001b[43mgetFrameJacobian\u001b[49m\u001b[43m(\u001b[49m\u001b[38;5;28;43mself\u001b[39;49m\u001b[38;5;241;43m.\u001b[39;49m\u001b[43mmodel\u001b[49m\u001b[43m,\u001b[49m\u001b[43m \u001b[49m\u001b[38;5;28;43mself\u001b[39;49m\u001b[38;5;241;43m.\u001b[39;49m\u001b[43mdata\u001b[49m\u001b[43m,\u001b[49m\u001b[43m \u001b[49m\u001b[43mframe_id\u001b[49m\u001b[43m,\u001b[49m\u001b[43m \u001b[49m\u001b[43mrf_frame\u001b[49m\u001b[43m)\u001b[49m\n",
      "\u001b[0;31mValueError\u001b[0m: The index of the Frame is outside the bounds."
     ]
    }
   ],
   "source": [
    "import time\n",
    "import numpy as np\n",
    "from FR3Py.controllers.jacobianPseudoInv import WaypointController\n",
    "\n",
    "controller = WaypointController(kp=1.5)\n",
    "# Read the initial state of the robot\n",
    "time.sleep(0.2)\n",
    "robot.reset()\n",
    "state = robot.getJointStates()\n",
    "for i, f in enumerate(controller.robot.robot.model.frames):\n",
    "    print(f\"{i}: {f.name}\")\n",
    "if state is not None:\n",
    "    print('starting the controller')\n",
    "    q, dq = state['q'], state['dq']\n",
    "    q = np.hstack([q, np.zeros(2)])\n",
    "    dq = np.hstack([dq, np.zeros(2)]\n",
    "                   )\n",
    "    p0 = controller.robot.getInfo(q,dq)['P_EE']\n",
    "    R0 = controller.robot.getInfo(q,dq)['R_EE']\n",
    "    T0 = np.vstack([np.hstack([R0, p0.reshape(3,1)]), np.array([0,0,0,1])])\n",
    "    \n",
    "    start_time = time.time()\n",
    "    while time.time()-start_time < 10:\n",
    "        time.sleep(robot.dt)\n",
    "        t = time.time() - start_time\n",
    "        x = 0.1 * np.sin(t)\n",
    "        T= T0 @ np.vstack([np.hstack([np.eye(3), np.array([0,0,x]).reshape(3,1)]), np.array([0,0,0,1])])\n",
    "        state = robot.getJointStates()\n",
    "        q, dq = state['q'], state['dq']\n",
    "        cmd = controller.compute(q, dq, T_cmd=T)\n",
    "        robot.setCommands(cmd[:7])\n",
    "        robot.step()\n",
    "\n",
    "    robot.setCommands(np.zeros(7))\n",
    "    print('Demo ended.')\n",
    "else:\n",
    "    print('State is None. check the connection')"
   ]
  },
  {
   "cell_type": "code",
   "execution_count": null,
   "metadata": {},
   "outputs": [],
   "source": []
  },
  {
   "cell_type": "code",
   "execution_count": null,
   "metadata": {},
   "outputs": [],
   "source": []
  }
 ],
 "metadata": {
  "kernelspec": {
   "display_name": "Python 3",
   "language": "python",
   "name": "python3"
  },
  "language_info": {
   "codemirror_mode": {
    "name": "ipython",
    "version": 3
   },
   "file_extension": ".py",
   "mimetype": "text/x-python",
   "name": "python",
   "nbconvert_exporter": "python",
   "pygments_lexer": "ipython3",
   "version": "3.10.12"
  }
 },
 "nbformat": 4,
 "nbformat_minor": 2
}
